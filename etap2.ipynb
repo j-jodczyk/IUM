{
 "cells": [
  {
   "attachments": {},
   "cell_type": "markdown",
   "metadata": {},
   "source": [
    "# Drugi etap projektu\n",
    "Julia Jodczyk\n",
    "\n",
    "Filip Pawłowski \n",
    "### Polecenie:\n",
    "“Jakiś czas temu wprowadziliśmy konta premium, które uwalniają użytkowników od słuchania reklam. Nie są one jednak jeszcze zbyt popularne – czy możemy się dowiedzieć, które osoby są bardziej skłonne do zakupu takiego konta?”"
   ]
  },
  {
   "cell_type": "code",
   "execution_count": 1,
   "metadata": {},
   "outputs": [],
   "source": [
    "import pickle\n",
    "import requests\n",
    "import json\n",
    "import pandas as pd\n",
    "from sklearn.neighbors import KNeighborsClassifier\n",
    "from sklearn.model_selection import train_test_split\n",
    "from sklearn.metrics import accuracy_score\n",
    "\n",
    "from microservice.load_data import Preprocessor, DataModel\n",
    "from microservice.files_utils import randomly_split_group"
   ]
  },
  {
   "attachments": {},
   "cell_type": "markdown",
   "metadata": {},
   "source": [
    "## Modele"
   ]
  },
  {
   "attachments": {},
   "cell_type": "markdown",
   "metadata": {},
   "source": [
    "Stworzyliśmy modele klasyfikacji binarnej, które dzielą użytkowników na grupy: `kupi premium` i `nie kupi premium`. "
   ]
  },
  {
   "attachments": {},
   "cell_type": "markdown",
   "metadata": {},
   "source": [
    "### Model Bazowy"
   ]
  },
  {
   "attachments": {},
   "cell_type": "markdown",
   "metadata": {},
   "source": [
    "Jako model bazowy, najprostszy z możliwych dla danego zadania uznajemy model naiwny, który zawsze klasyfikuje użytkowników do grupy `kupi premium`: "
   ]
  },
  {
   "cell_type": "code",
   "execution_count": 2,
   "metadata": {},
   "outputs": [],
   "source": [
    "class NaiveModel:\n",
    "    def predict(self, input_df):\n",
    "        user_ids = input_df.index\n",
    "        mock_series = pd.Series(True, index=user_ids, name=\"user_id\")\n",
    "        return mock_series\n",
    "    \n",
    "base_model = NaiveModel()\n",
    "\n",
    "with open('./microservice/saved_models/base_model.sav', 'wb') as f:\n",
    "    pickle.dump(base_model, f)"
   ]
  },
  {
   "attachments": {},
   "cell_type": "markdown",
   "metadata": {},
   "source": [
    "### Model docelowy"
   ]
  },
  {
   "attachments": {},
   "cell_type": "markdown",
   "metadata": {},
   "source": [
    "Jako model docelowy, po analizie z pierwszego etapu, wybraliśmy model KNN z następującymi cechami (per użytkownik):\n",
    "- miasto \n",
    "- stosunek czasu reklam do całego czasu, jaki użytkownik spędził korzystając z serwisu\n",
    "- stosunkowy udział każdego typu zdarzenia (event_type) we wszystkich zdarzeniach sesji\n",
    "- stosunek ilości reklam po utworach ulubionego gatunku\n",
    "- ulubione gatunki użytkownika\n",
    "\n",
    "Implementacja ekstrakcji powyższych cech została umieszczona w pliku `load_data.py`. Cechy nieliczbowe - miasto oraz ulubione gatunki zostały zakodowane sposobem one hot encoding."
   ]
  },
  {
   "cell_type": "code",
   "execution_count": 3,
   "metadata": {},
   "outputs": [],
   "source": [
    "with open(\"./data/users.json\", \"r\") as f:\n",
    "        group = json.load(f)\n",
    "train_users, test_users = randomly_split_group(group)\n",
    "with open(\"./data/train_users.json\", \"w\") as f:\n",
    "    json.dump(train_users, f)"
   ]
  },
  {
   "cell_type": "code",
   "execution_count": 4,
   "metadata": {},
   "outputs": [],
   "source": [
    "target_model = KNeighborsClassifier()\n",
    "# load data:\n",
    "# use file train_users instead of users\n",
    "data_model = DataModel()\n",
    "data_model.users_df = pd.read_json(\"./data/train_users.json\")\n",
    "df = data_model.get_merged_dfs()\n",
    "preprocessed_df = Preprocessor.run(df)"
   ]
  },
  {
   "cell_type": "code",
   "execution_count": 5,
   "metadata": {},
   "outputs": [
    {
     "data": {
      "text/html": [
       "<div>\n",
       "<style scoped>\n",
       "    .dataframe tbody tr th:only-of-type {\n",
       "        vertical-align: middle;\n",
       "    }\n",
       "\n",
       "    .dataframe tbody tr th {\n",
       "        vertical-align: top;\n",
       "    }\n",
       "\n",
       "    .dataframe thead th {\n",
       "        text-align: right;\n",
       "    }\n",
       "</style>\n",
       "<table border=\"1\" class=\"dataframe\">\n",
       "  <thead>\n",
       "    <tr style=\"text-align: right;\">\n",
       "      <th></th>\n",
       "      <th>user_id</th>\n",
       "      <th>premium_user</th>\n",
       "      <th>Gdynia</th>\n",
       "      <th>Kraków</th>\n",
       "      <th>Poznań</th>\n",
       "      <th>Radom</th>\n",
       "      <th>Szczecin</th>\n",
       "      <th>Warszawa</th>\n",
       "      <th>Wrocław</th>\n",
       "      <th>Ads_ratio</th>\n",
       "      <th>...</th>\n",
       "      <th>ranchera</th>\n",
       "      <th>regional mexican</th>\n",
       "      <th>rock</th>\n",
       "      <th>rock en espanol</th>\n",
       "      <th>roots rock</th>\n",
       "      <th>singer-songwriter</th>\n",
       "      <th>soft rock</th>\n",
       "      <th>soul</th>\n",
       "      <th>tropical</th>\n",
       "      <th>vocal jazz</th>\n",
       "    </tr>\n",
       "  </thead>\n",
       "  <tbody>\n",
       "    <tr>\n",
       "      <th>0</th>\n",
       "      <td>101</td>\n",
       "      <td>True</td>\n",
       "      <td>0</td>\n",
       "      <td>0</td>\n",
       "      <td>0</td>\n",
       "      <td>0</td>\n",
       "      <td>0</td>\n",
       "      <td>0</td>\n",
       "      <td>1</td>\n",
       "      <td>0.030566</td>\n",
       "      <td>...</td>\n",
       "      <td>0</td>\n",
       "      <td>0</td>\n",
       "      <td>0</td>\n",
       "      <td>0</td>\n",
       "      <td>0</td>\n",
       "      <td>0</td>\n",
       "      <td>0</td>\n",
       "      <td>0</td>\n",
       "      <td>0</td>\n",
       "      <td>0</td>\n",
       "    </tr>\n",
       "    <tr>\n",
       "      <th>1</th>\n",
       "      <td>101</td>\n",
       "      <td>True</td>\n",
       "      <td>0</td>\n",
       "      <td>0</td>\n",
       "      <td>0</td>\n",
       "      <td>0</td>\n",
       "      <td>0</td>\n",
       "      <td>0</td>\n",
       "      <td>1</td>\n",
       "      <td>0.030566</td>\n",
       "      <td>...</td>\n",
       "      <td>0</td>\n",
       "      <td>0</td>\n",
       "      <td>0</td>\n",
       "      <td>0</td>\n",
       "      <td>0</td>\n",
       "      <td>0</td>\n",
       "      <td>0</td>\n",
       "      <td>0</td>\n",
       "      <td>0</td>\n",
       "      <td>0</td>\n",
       "    </tr>\n",
       "    <tr>\n",
       "      <th>2</th>\n",
       "      <td>101</td>\n",
       "      <td>True</td>\n",
       "      <td>0</td>\n",
       "      <td>0</td>\n",
       "      <td>0</td>\n",
       "      <td>0</td>\n",
       "      <td>0</td>\n",
       "      <td>0</td>\n",
       "      <td>1</td>\n",
       "      <td>0.030566</td>\n",
       "      <td>...</td>\n",
       "      <td>0</td>\n",
       "      <td>0</td>\n",
       "      <td>0</td>\n",
       "      <td>0</td>\n",
       "      <td>0</td>\n",
       "      <td>0</td>\n",
       "      <td>0</td>\n",
       "      <td>0</td>\n",
       "      <td>0</td>\n",
       "      <td>0</td>\n",
       "    </tr>\n",
       "    <tr>\n",
       "      <th>3</th>\n",
       "      <td>101</td>\n",
       "      <td>True</td>\n",
       "      <td>0</td>\n",
       "      <td>0</td>\n",
       "      <td>0</td>\n",
       "      <td>0</td>\n",
       "      <td>0</td>\n",
       "      <td>0</td>\n",
       "      <td>1</td>\n",
       "      <td>0.030566</td>\n",
       "      <td>...</td>\n",
       "      <td>0</td>\n",
       "      <td>0</td>\n",
       "      <td>0</td>\n",
       "      <td>0</td>\n",
       "      <td>0</td>\n",
       "      <td>0</td>\n",
       "      <td>0</td>\n",
       "      <td>0</td>\n",
       "      <td>0</td>\n",
       "      <td>0</td>\n",
       "    </tr>\n",
       "    <tr>\n",
       "      <th>4</th>\n",
       "      <td>101</td>\n",
       "      <td>True</td>\n",
       "      <td>0</td>\n",
       "      <td>0</td>\n",
       "      <td>0</td>\n",
       "      <td>0</td>\n",
       "      <td>0</td>\n",
       "      <td>0</td>\n",
       "      <td>1</td>\n",
       "      <td>0.030566</td>\n",
       "      <td>...</td>\n",
       "      <td>0</td>\n",
       "      <td>0</td>\n",
       "      <td>0</td>\n",
       "      <td>0</td>\n",
       "      <td>0</td>\n",
       "      <td>0</td>\n",
       "      <td>0</td>\n",
       "      <td>0</td>\n",
       "      <td>0</td>\n",
       "      <td>0</td>\n",
       "    </tr>\n",
       "    <tr>\n",
       "      <th>...</th>\n",
       "      <td>...</td>\n",
       "      <td>...</td>\n",
       "      <td>...</td>\n",
       "      <td>...</td>\n",
       "      <td>...</td>\n",
       "      <td>...</td>\n",
       "      <td>...</td>\n",
       "      <td>...</td>\n",
       "      <td>...</td>\n",
       "      <td>...</td>\n",
       "      <td>...</td>\n",
       "      <td>...</td>\n",
       "      <td>...</td>\n",
       "      <td>...</td>\n",
       "      <td>...</td>\n",
       "      <td>...</td>\n",
       "      <td>...</td>\n",
       "      <td>...</td>\n",
       "      <td>...</td>\n",
       "      <td>...</td>\n",
       "      <td>...</td>\n",
       "    </tr>\n",
       "    <tr>\n",
       "      <th>184878</th>\n",
       "      <td>1054</td>\n",
       "      <td>True</td>\n",
       "      <td>0</td>\n",
       "      <td>0</td>\n",
       "      <td>0</td>\n",
       "      <td>0</td>\n",
       "      <td>1</td>\n",
       "      <td>0</td>\n",
       "      <td>0</td>\n",
       "      <td>0.027753</td>\n",
       "      <td>...</td>\n",
       "      <td>0</td>\n",
       "      <td>0</td>\n",
       "      <td>0</td>\n",
       "      <td>0</td>\n",
       "      <td>1</td>\n",
       "      <td>0</td>\n",
       "      <td>0</td>\n",
       "      <td>0</td>\n",
       "      <td>0</td>\n",
       "      <td>0</td>\n",
       "    </tr>\n",
       "    <tr>\n",
       "      <th>184879</th>\n",
       "      <td>1054</td>\n",
       "      <td>True</td>\n",
       "      <td>0</td>\n",
       "      <td>0</td>\n",
       "      <td>0</td>\n",
       "      <td>0</td>\n",
       "      <td>1</td>\n",
       "      <td>0</td>\n",
       "      <td>0</td>\n",
       "      <td>0.027753</td>\n",
       "      <td>...</td>\n",
       "      <td>0</td>\n",
       "      <td>0</td>\n",
       "      <td>0</td>\n",
       "      <td>0</td>\n",
       "      <td>1</td>\n",
       "      <td>0</td>\n",
       "      <td>0</td>\n",
       "      <td>0</td>\n",
       "      <td>0</td>\n",
       "      <td>0</td>\n",
       "    </tr>\n",
       "    <tr>\n",
       "      <th>184880</th>\n",
       "      <td>1054</td>\n",
       "      <td>True</td>\n",
       "      <td>0</td>\n",
       "      <td>0</td>\n",
       "      <td>0</td>\n",
       "      <td>0</td>\n",
       "      <td>1</td>\n",
       "      <td>0</td>\n",
       "      <td>0</td>\n",
       "      <td>0.027753</td>\n",
       "      <td>...</td>\n",
       "      <td>0</td>\n",
       "      <td>0</td>\n",
       "      <td>0</td>\n",
       "      <td>0</td>\n",
       "      <td>1</td>\n",
       "      <td>0</td>\n",
       "      <td>0</td>\n",
       "      <td>0</td>\n",
       "      <td>0</td>\n",
       "      <td>0</td>\n",
       "    </tr>\n",
       "    <tr>\n",
       "      <th>184881</th>\n",
       "      <td>1054</td>\n",
       "      <td>True</td>\n",
       "      <td>0</td>\n",
       "      <td>0</td>\n",
       "      <td>0</td>\n",
       "      <td>0</td>\n",
       "      <td>1</td>\n",
       "      <td>0</td>\n",
       "      <td>0</td>\n",
       "      <td>0.027753</td>\n",
       "      <td>...</td>\n",
       "      <td>0</td>\n",
       "      <td>0</td>\n",
       "      <td>0</td>\n",
       "      <td>0</td>\n",
       "      <td>1</td>\n",
       "      <td>0</td>\n",
       "      <td>0</td>\n",
       "      <td>0</td>\n",
       "      <td>0</td>\n",
       "      <td>0</td>\n",
       "    </tr>\n",
       "    <tr>\n",
       "      <th>184882</th>\n",
       "      <td>1054</td>\n",
       "      <td>True</td>\n",
       "      <td>0</td>\n",
       "      <td>0</td>\n",
       "      <td>0</td>\n",
       "      <td>0</td>\n",
       "      <td>1</td>\n",
       "      <td>0</td>\n",
       "      <td>0</td>\n",
       "      <td>0.027753</td>\n",
       "      <td>...</td>\n",
       "      <td>0</td>\n",
       "      <td>0</td>\n",
       "      <td>0</td>\n",
       "      <td>0</td>\n",
       "      <td>1</td>\n",
       "      <td>0</td>\n",
       "      <td>0</td>\n",
       "      <td>0</td>\n",
       "      <td>0</td>\n",
       "      <td>0</td>\n",
       "    </tr>\n",
       "  </tbody>\n",
       "</table>\n",
       "<p>184883 rows × 65 columns</p>\n",
       "</div>"
      ],
      "text/plain": [
       "        user_id  premium_user  Gdynia  Kraków  Poznań  Radom  Szczecin  \\\n",
       "0           101          True       0       0       0      0         0   \n",
       "1           101          True       0       0       0      0         0   \n",
       "2           101          True       0       0       0      0         0   \n",
       "3           101          True       0       0       0      0         0   \n",
       "4           101          True       0       0       0      0         0   \n",
       "...         ...           ...     ...     ...     ...    ...       ...   \n",
       "184878     1054          True       0       0       0      0         1   \n",
       "184879     1054          True       0       0       0      0         1   \n",
       "184880     1054          True       0       0       0      0         1   \n",
       "184881     1054          True       0       0       0      0         1   \n",
       "184882     1054          True       0       0       0      0         1   \n",
       "\n",
       "        Warszawa  Wrocław  Ads_ratio  ...  ranchera  regional mexican  rock  \\\n",
       "0              0        1   0.030566  ...         0                 0     0   \n",
       "1              0        1   0.030566  ...         0                 0     0   \n",
       "2              0        1   0.030566  ...         0                 0     0   \n",
       "3              0        1   0.030566  ...         0                 0     0   \n",
       "4              0        1   0.030566  ...         0                 0     0   \n",
       "...          ...      ...        ...  ...       ...               ...   ...   \n",
       "184878         0        0   0.027753  ...         0                 0     0   \n",
       "184879         0        0   0.027753  ...         0                 0     0   \n",
       "184880         0        0   0.027753  ...         0                 0     0   \n",
       "184881         0        0   0.027753  ...         0                 0     0   \n",
       "184882         0        0   0.027753  ...         0                 0     0   \n",
       "\n",
       "        rock en espanol  roots rock  singer-songwriter  soft rock  soul  \\\n",
       "0                     0           0                  0          0     0   \n",
       "1                     0           0                  0          0     0   \n",
       "2                     0           0                  0          0     0   \n",
       "3                     0           0                  0          0     0   \n",
       "4                     0           0                  0          0     0   \n",
       "...                 ...         ...                ...        ...   ...   \n",
       "184878                0           1                  0          0     0   \n",
       "184879                0           1                  0          0     0   \n",
       "184880                0           1                  0          0     0   \n",
       "184881                0           1                  0          0     0   \n",
       "184882                0           1                  0          0     0   \n",
       "\n",
       "        tropical  vocal jazz  \n",
       "0              0           0  \n",
       "1              0           0  \n",
       "2              0           0  \n",
       "3              0           0  \n",
       "4              0           0  \n",
       "...          ...         ...  \n",
       "184878         0           0  \n",
       "184879         0           0  \n",
       "184880         0           0  \n",
       "184881         0           0  \n",
       "184882         0           0  \n",
       "\n",
       "[184883 rows x 65 columns]"
      ]
     },
     "execution_count": 5,
     "metadata": {},
     "output_type": "execute_result"
    }
   ],
   "source": [
    "preprocessed_df"
   ]
  },
  {
   "cell_type": "code",
   "execution_count": 8,
   "metadata": {},
   "outputs": [
    {
     "name": "stderr",
     "output_type": "stream",
     "text": [
      "/home/julia/anaconda3/lib/python3.10/site-packages/sklearn/utils/validation.py:768: UserWarning: pandas.DataFrame with sparse columns found.It will be converted to a dense numpy array.\n",
      "  warnings.warn(\n"
     ]
    }
   ],
   "source": [
    "# split data:\n",
    "X, y = preprocessed_df.drop([\"premium_user\"], axis=1), preprocessed_df[\"premium_user\"]\n",
    "X_train, X_test, y_train, y_test = train_test_split(X, y, test_size=0.33, random_state=18)\n",
    "\n",
    "target_model.fit(X_train, y_train)\n",
    "\n",
    "with open('./microservice/saved_models/KNN_model.sav', 'wb') as f:\n",
    "    pickle.dump(target_model, f)"
   ]
  },
  {
   "cell_type": "code",
   "execution_count": 8,
   "metadata": {},
   "outputs": [
    {
     "data": {
      "text/plain": [
       "166587    True\n",
       "91690     True\n",
       "122185    True\n",
       "77859     True\n",
       "135832    True\n",
       "          ... \n",
       "1932      True\n",
       "184633    True\n",
       "169210    True\n",
       "165052    True\n",
       "129575    True\n",
       "Name: user_id, Length: 61012, dtype: bool"
      ]
     },
     "execution_count": 8,
     "metadata": {},
     "output_type": "execute_result"
    }
   ],
   "source": [
    "base_y_hat = base_model.predict(X_offline_test)\n",
    "base_y_hat"
   ]
  },
  {
   "cell_type": "code",
   "execution_count": 6,
   "metadata": {},
   "outputs": [
    {
     "ename": "NameError",
     "evalue": "name 'base_y_hat' is not defined",
     "output_type": "error",
     "traceback": [
      "\u001b[0;31m---------------------------------------------------------------------------\u001b[0m",
      "\u001b[0;31mNameError\u001b[0m                                 Traceback (most recent call last)",
      "Cell \u001b[0;32mIn[6], line 1\u001b[0m\n\u001b[0;32m----> 1\u001b[0m score \u001b[39m=\u001b[39m accuracy_score(y_offline_test, base_y_hat)\n\u001b[1;32m      2\u001b[0m score\n",
      "\u001b[0;31mNameError\u001b[0m: name 'base_y_hat' is not defined"
     ]
    }
   ],
   "source": [
    "score = accuracy_score(y_offline_test, base_y_hat)\n",
    "score "
   ]
  },
  {
   "cell_type": "code",
   "execution_count": 9,
   "metadata": {},
   "outputs": [
    {
     "name": "stderr",
     "output_type": "stream",
     "text": [
      "/home/julia/anaconda3/lib/python3.10/site-packages/sklearn/utils/validation.py:768: UserWarning: pandas.DataFrame with sparse columns found.It will be converted to a dense numpy array.\n",
      "  warnings.warn(\n"
     ]
    },
    {
     "data": {
      "text/plain": [
       "1.0"
      ]
     },
     "execution_count": 9,
     "metadata": {},
     "output_type": "execute_result"
    }
   ],
   "source": [
    "target_y_hat = target_model.predict(X_test)\n",
    "score = accuracy_score(y_test, target_y_hat)\n",
    "score "
   ]
  },
  {
   "attachments": {},
   "cell_type": "markdown",
   "metadata": {},
   "source": [
    "### Porównanie wyników offline"
   ]
  },
  {
   "cell_type": "code",
   "execution_count": 11,
   "metadata": {},
   "outputs": [
    {
     "ename": "NameError",
     "evalue": "name 'test_offline' is not defined",
     "output_type": "error",
     "traceback": [
      "\u001b[0;31m---------------------------------------------------------------------------\u001b[0m",
      "\u001b[0;31mNameError\u001b[0m                                 Traceback (most recent call last)",
      "Cell \u001b[0;32mIn[11], line 1\u001b[0m\n\u001b[0;32m----> 1\u001b[0m base_test_online, target_test_online \u001b[39m=\u001b[39m randomly_split_group(test_offline)\n\u001b[1;32m      3\u001b[0m y_hat \u001b[39m=\u001b[39m base_model\u001b[39m.\u001b[39mpredict(base_test_online)\n\u001b[1;32m      5\u001b[0m score \u001b[39m=\u001b[39m accuracy_score(y_test, y_hat)\n",
      "\u001b[0;31mNameError\u001b[0m: name 'test_offline' is not defined"
     ]
    }
   ],
   "source": [
    "base_test_online, target_test_online = randomly_split_group(test_offline)\n",
    "\n",
    "y_hat = base_model.predict(base_test_online)\n",
    "\n",
    "score = accuracy_score(y_test, y_hat)\n",
    "score "
   ]
  },
  {
   "attachments": {},
   "cell_type": "markdown",
   "metadata": {},
   "source": [
    "### Porównanie wyników"
   ]
  },
  {
   "attachments": {},
   "cell_type": "markdown",
   "metadata": {},
   "source": [
    "Wyniki predykcji zbierzemy za pomocą zaimplementowanego mikroserwisu (szczegóły implementacji i API niżej). \n",
    "\n",
    "(Przed uruchomieniem kodu z poniższej komórki należy uruchomić mikroserwis komendą `python3 /microservice/microservice.py`) "
   ]
  },
  {
   "cell_type": "code",
   "execution_count": null,
   "metadata": {},
   "outputs": [],
   "source": [
    "base_url = \"http://127.0.0.1:8000\"\n",
    "\n",
    "base_model_test, target_model_test = randomly_split_group(test_users)\n",
    "for user in target_model_test:\n",
    "    requests.post(f\"{base_url}/predict-with/KNN\", params={\"test\": \"True\"}, json=user)\n",
    "    actual_body = {\n",
    "        \"user_id\": user[\"user_id\"],\n",
    "        \"actual\": user[\"premium_user\"]\n",
    "    }\n",
    "    requests.post(f\"{base_url}/submit-actual\", json=actual_body)\n",
    "for user in base_model_test:\n",
    "    requests.post(f\"{base_url}/predict-with/base\", params={\"test\": \"True\"}, json=user)\n",
    "    actual_body = {\n",
    "        \"user_id\": user[\"user_id\"],\n",
    "        \"actual\": user[\"premium_user\"]\n",
    "    }\n",
    "    requests.post(f\"{base_url}/submit-actual\", json=actual_body)\n"
   ]
  },
  {
   "cell_type": "code",
   "execution_count": null,
   "metadata": {},
   "outputs": [],
   "source": [
    "response = requests.get(f\"{base_url}/test_ab_results\")\n"
   ]
  },
  {
   "attachments": {},
   "cell_type": "markdown",
   "metadata": {},
   "source": [
    "### Dalsze kroki:\n",
    "- opis mikroserwisu\n",
    "- analiza wyników testów"
   ]
  }
 ],
 "metadata": {
  "kernelspec": {
   "display_name": "base",
   "language": "python",
   "name": "python3"
  },
  "language_info": {
   "codemirror_mode": {
    "name": "ipython",
    "version": 3
   },
   "file_extension": ".py",
   "mimetype": "text/x-python",
   "name": "python",
   "nbconvert_exporter": "python",
   "pygments_lexer": "ipython3",
   "version": "3.10.9"
  },
  "orig_nbformat": 4
 },
 "nbformat": 4,
 "nbformat_minor": 2
}
