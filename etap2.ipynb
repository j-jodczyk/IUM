{
 "cells": [
  {
   "attachments": {},
   "cell_type": "markdown",
   "metadata": {},
   "source": [
    "# Drugi etap projektu\n",
    "Julia Jodczyk\n",
    "\n",
    "Filip Pawłowski \n",
    "### Polecenie:\n",
    "“Jakiś czas temu wprowadziliśmy konta premium, które uwalniają użytkowników od słuchania reklam. Nie są one jednak jeszcze zbyt popularne – czy możemy się dowiedzieć, które osoby są bardziej skłonne do zakupu takiego konta?”"
   ]
  },
  {
   "cell_type": "code",
   "execution_count": 4,
   "metadata": {},
   "outputs": [],
   "source": [
    "import pickle\n",
    "import requests\n",
    "import json\n",
    "import pandas as pd\n",
    "from sklearn.neighbors import KNeighborsClassifier\n",
    "from sklearn.model_selection import train_test_split\n",
    "from sklearn.metrics import accuracy_score, classification_report\n",
    "\n",
    "from microservice.load_data import Preprocessor, DataModel\n",
    "from microservice.files_utils import randomly_split_group"
   ]
  },
  {
   "attachments": {},
   "cell_type": "markdown",
   "metadata": {},
   "source": [
    "## Modele"
   ]
  },
  {
   "attachments": {},
   "cell_type": "markdown",
   "metadata": {},
   "source": [
    "Stworzyliśmy modele klasyfikacji binarnej, które dzielą użytkowników na grupy: `kupi premium` i `nie kupi premium`. "
   ]
  },
  {
   "attachments": {},
   "cell_type": "markdown",
   "metadata": {},
   "source": [
    "### Model Bazowy"
   ]
  },
  {
   "attachments": {},
   "cell_type": "markdown",
   "metadata": {},
   "source": [
    "Jako model bazowy, najprostszy z możliwych dla danego zadania uznajemy model naiwny, który zawsze klasyfikuje użytkowników do grupy `kupi premium`: "
   ]
  },
  {
   "cell_type": "code",
   "execution_count": 5,
   "metadata": {},
   "outputs": [],
   "source": [
    "class NaiveModel:\n",
    "    def predict(self, input_df):\n",
    "        user_ids = input_df.index\n",
    "        mock_series = pd.Series(True, index=user_ids, name=\"user_id\")\n",
    "        return mock_series\n",
    "    \n",
    "base_model = NaiveModel()\n",
    "\n",
    "with open('./microservice/saved_models/base_model.sav', 'wb') as f:\n",
    "    pickle.dump(base_model, f)"
   ]
  },
  {
   "attachments": {},
   "cell_type": "markdown",
   "metadata": {},
   "source": [
    "### Model docelowy"
   ]
  },
  {
   "attachments": {},
   "cell_type": "markdown",
   "metadata": {},
   "source": [
    "Wybierając model docelowy przeprowadziliśmy serię przeszukiwań RandomizedSearch, w których ocenialiśmy sprawność modeli przy użyciu K-fold cross walidacji. Początkowo porównywane były klasifikatory: K-najbliższych sąsiadów oraz minimalno-odległościowy. Na dalszych etapach projektu dodaliśmy do tego zbioru również inne modele - np. RandomForest oraz DecisionTree. Osiągały one bardzo dobre oraz podobne wyniki do wcześniej wytypowanego klasyfikatora K-najliższych sąsiadów, w związku z czym w realnym projekcie prawdopodobnie rozważylibyśmy dostarczenie np. dwóch pretrenowanych modeli i pozwolenie klientowi na wybór w czasie rzeczywistym trwania programu jednego z nich i porównywanie osiąganych efektów. \n",
    "W naszym wypadku dalsze rozważania zawrzemy w kontekście jednego modelu - KNeighboursClassifier. Po generacji nowych atrybutów z danych, ostatecznymi cechami (per użytkownik) dla klasyfikatora są:\n",
    "- miasto \n",
    "- stosunek czasu reklam do całego czasu, jaki użytkownik spędził korzystając z serwisu\n",
    "- stosunkowy udział każdego typu zdarzenia (event_type) we wszystkich zdarzeniach sesji\n",
    "- stosunek ilości reklam po utworach ulubionego gatunku\n",
    "- ulubione gatunki użytkownika\n",
    "\n",
    "Implementacja ekstrakcji powyższych cech została umieszczona w pliku `load_data.py`. Cechy nieliczbowe - miasto oraz ulubione gatunki zostały zakodowane sposobem one hot encoding.\n",
    "\n",
    "Strojenie hiperparametrów zawarto w pliku `tuning.py`.\n",
    "\n",
    "Sposób oceny modeli opisano w sekcji \"Porównanie wyników offline\"   \n",
    " "
   ]
  },
  {
   "cell_type": "code",
   "execution_count": 6,
   "metadata": {},
   "outputs": [],
   "source": [
    "target_model = KNeighborsClassifier()\n",
    "# load data:\n",
    "data_model = DataModel()\n",
    "data_model.users_df = pd.read_json(\"./data/users.json\")\n",
    "df = data_model.get_merged_dfs()\n",
    "preprocessed_df = Preprocessor.transform(df)"
   ]
  },
  {
   "cell_type": "code",
   "execution_count": 7,
   "metadata": {},
   "outputs": [
    {
     "data": {
      "text/html": [
       "<div>\n",
       "<style scoped>\n",
       "    .dataframe tbody tr th:only-of-type {\n",
       "        vertical-align: middle;\n",
       "    }\n",
       "\n",
       "    .dataframe tbody tr th {\n",
       "        vertical-align: top;\n",
       "    }\n",
       "\n",
       "    .dataframe thead th {\n",
       "        text-align: right;\n",
       "    }\n",
       "</style>\n",
       "<table border=\"1\" class=\"dataframe\">\n",
       "  <thead>\n",
       "    <tr style=\"text-align: right;\">\n",
       "      <th></th>\n",
       "      <th>premium_user</th>\n",
       "      <th>Gdynia</th>\n",
       "      <th>Kraków</th>\n",
       "      <th>Poznań</th>\n",
       "      <th>Radom</th>\n",
       "      <th>Szczecin</th>\n",
       "      <th>Warszawa</th>\n",
       "      <th>Wrocław</th>\n",
       "      <th>Ads_ratio</th>\n",
       "      <th>adds_after_fav_ratio</th>\n",
       "      <th>...</th>\n",
       "      <th>ranchera</th>\n",
       "      <th>regional mexican</th>\n",
       "      <th>rock</th>\n",
       "      <th>rock en espanol</th>\n",
       "      <th>roots rock</th>\n",
       "      <th>singer-songwriter</th>\n",
       "      <th>soft rock</th>\n",
       "      <th>soul</th>\n",
       "      <th>tropical</th>\n",
       "      <th>vocal jazz</th>\n",
       "    </tr>\n",
       "  </thead>\n",
       "  <tbody>\n",
       "    <tr>\n",
       "      <th>0</th>\n",
       "      <td>True</td>\n",
       "      <td>0</td>\n",
       "      <td>0</td>\n",
       "      <td>0</td>\n",
       "      <td>0</td>\n",
       "      <td>0</td>\n",
       "      <td>0</td>\n",
       "      <td>1</td>\n",
       "      <td>0.030566</td>\n",
       "      <td>0.035714</td>\n",
       "      <td>...</td>\n",
       "      <td>0</td>\n",
       "      <td>0</td>\n",
       "      <td>0</td>\n",
       "      <td>0</td>\n",
       "      <td>0</td>\n",
       "      <td>0</td>\n",
       "      <td>0</td>\n",
       "      <td>0</td>\n",
       "      <td>0</td>\n",
       "      <td>0</td>\n",
       "    </tr>\n",
       "    <tr>\n",
       "      <th>196</th>\n",
       "      <td>False</td>\n",
       "      <td>0</td>\n",
       "      <td>1</td>\n",
       "      <td>0</td>\n",
       "      <td>0</td>\n",
       "      <td>0</td>\n",
       "      <td>0</td>\n",
       "      <td>0</td>\n",
       "      <td>0.018199</td>\n",
       "      <td>0.223684</td>\n",
       "      <td>...</td>\n",
       "      <td>0</td>\n",
       "      <td>0</td>\n",
       "      <td>0</td>\n",
       "      <td>0</td>\n",
       "      <td>0</td>\n",
       "      <td>1</td>\n",
       "      <td>0</td>\n",
       "      <td>0</td>\n",
       "      <td>0</td>\n",
       "      <td>0</td>\n",
       "    </tr>\n",
       "    <tr>\n",
       "      <th>699</th>\n",
       "      <td>False</td>\n",
       "      <td>0</td>\n",
       "      <td>1</td>\n",
       "      <td>0</td>\n",
       "      <td>0</td>\n",
       "      <td>0</td>\n",
       "      <td>0</td>\n",
       "      <td>0</td>\n",
       "      <td>0.011745</td>\n",
       "      <td>0.080000</td>\n",
       "      <td>...</td>\n",
       "      <td>0</td>\n",
       "      <td>0</td>\n",
       "      <td>0</td>\n",
       "      <td>0</td>\n",
       "      <td>1</td>\n",
       "      <td>0</td>\n",
       "      <td>0</td>\n",
       "      <td>0</td>\n",
       "      <td>0</td>\n",
       "      <td>0</td>\n",
       "    </tr>\n",
       "    <tr>\n",
       "      <th>947</th>\n",
       "      <td>False</td>\n",
       "      <td>0</td>\n",
       "      <td>0</td>\n",
       "      <td>0</td>\n",
       "      <td>0</td>\n",
       "      <td>0</td>\n",
       "      <td>1</td>\n",
       "      <td>0</td>\n",
       "      <td>0.024229</td>\n",
       "      <td>0.000000</td>\n",
       "      <td>...</td>\n",
       "      <td>0</td>\n",
       "      <td>0</td>\n",
       "      <td>0</td>\n",
       "      <td>0</td>\n",
       "      <td>0</td>\n",
       "      <td>0</td>\n",
       "      <td>0</td>\n",
       "      <td>0</td>\n",
       "      <td>1</td>\n",
       "      <td>1</td>\n",
       "    </tr>\n",
       "    <tr>\n",
       "      <th>1737</th>\n",
       "      <td>False</td>\n",
       "      <td>0</td>\n",
       "      <td>0</td>\n",
       "      <td>0</td>\n",
       "      <td>0</td>\n",
       "      <td>0</td>\n",
       "      <td>1</td>\n",
       "      <td>0</td>\n",
       "      <td>0.019117</td>\n",
       "      <td>0.041096</td>\n",
       "      <td>...</td>\n",
       "      <td>0</td>\n",
       "      <td>0</td>\n",
       "      <td>0</td>\n",
       "      <td>0</td>\n",
       "      <td>0</td>\n",
       "      <td>0</td>\n",
       "      <td>0</td>\n",
       "      <td>0</td>\n",
       "      <td>0</td>\n",
       "      <td>0</td>\n",
       "    </tr>\n",
       "    <tr>\n",
       "      <th>...</th>\n",
       "      <td>...</td>\n",
       "      <td>...</td>\n",
       "      <td>...</td>\n",
       "      <td>...</td>\n",
       "      <td>...</td>\n",
       "      <td>...</td>\n",
       "      <td>...</td>\n",
       "      <td>...</td>\n",
       "      <td>...</td>\n",
       "      <td>...</td>\n",
       "      <td>...</td>\n",
       "      <td>...</td>\n",
       "      <td>...</td>\n",
       "      <td>...</td>\n",
       "      <td>...</td>\n",
       "      <td>...</td>\n",
       "      <td>...</td>\n",
       "      <td>...</td>\n",
       "      <td>...</td>\n",
       "      <td>...</td>\n",
       "      <td>...</td>\n",
       "    </tr>\n",
       "    <tr>\n",
       "      <th>367214</th>\n",
       "      <td>False</td>\n",
       "      <td>0</td>\n",
       "      <td>0</td>\n",
       "      <td>0</td>\n",
       "      <td>1</td>\n",
       "      <td>0</td>\n",
       "      <td>0</td>\n",
       "      <td>0</td>\n",
       "      <td>0.031597</td>\n",
       "      <td>0.558140</td>\n",
       "      <td>...</td>\n",
       "      <td>0</td>\n",
       "      <td>0</td>\n",
       "      <td>0</td>\n",
       "      <td>0</td>\n",
       "      <td>0</td>\n",
       "      <td>0</td>\n",
       "      <td>0</td>\n",
       "      <td>0</td>\n",
       "      <td>0</td>\n",
       "      <td>0</td>\n",
       "    </tr>\n",
       "    <tr>\n",
       "      <th>367484</th>\n",
       "      <td>False</td>\n",
       "      <td>0</td>\n",
       "      <td>1</td>\n",
       "      <td>0</td>\n",
       "      <td>0</td>\n",
       "      <td>0</td>\n",
       "      <td>0</td>\n",
       "      <td>0</td>\n",
       "      <td>0.024226</td>\n",
       "      <td>0.094118</td>\n",
       "      <td>...</td>\n",
       "      <td>0</td>\n",
       "      <td>0</td>\n",
       "      <td>1</td>\n",
       "      <td>0</td>\n",
       "      <td>0</td>\n",
       "      <td>0</td>\n",
       "      <td>0</td>\n",
       "      <td>0</td>\n",
       "      <td>0</td>\n",
       "      <td>0</td>\n",
       "    </tr>\n",
       "    <tr>\n",
       "      <th>367904</th>\n",
       "      <td>True</td>\n",
       "      <td>0</td>\n",
       "      <td>0</td>\n",
       "      <td>0</td>\n",
       "      <td>0</td>\n",
       "      <td>0</td>\n",
       "      <td>0</td>\n",
       "      <td>1</td>\n",
       "      <td>0.033301</td>\n",
       "      <td>0.057143</td>\n",
       "      <td>...</td>\n",
       "      <td>0</td>\n",
       "      <td>0</td>\n",
       "      <td>0</td>\n",
       "      <td>0</td>\n",
       "      <td>0</td>\n",
       "      <td>1</td>\n",
       "      <td>0</td>\n",
       "      <td>0</td>\n",
       "      <td>0</td>\n",
       "      <td>0</td>\n",
       "    </tr>\n",
       "    <tr>\n",
       "      <th>368124</th>\n",
       "      <td>False</td>\n",
       "      <td>0</td>\n",
       "      <td>1</td>\n",
       "      <td>0</td>\n",
       "      <td>0</td>\n",
       "      <td>0</td>\n",
       "      <td>0</td>\n",
       "      <td>0</td>\n",
       "      <td>0.022990</td>\n",
       "      <td>0.009804</td>\n",
       "      <td>...</td>\n",
       "      <td>0</td>\n",
       "      <td>0</td>\n",
       "      <td>0</td>\n",
       "      <td>0</td>\n",
       "      <td>0</td>\n",
       "      <td>0</td>\n",
       "      <td>0</td>\n",
       "      <td>0</td>\n",
       "      <td>0</td>\n",
       "      <td>0</td>\n",
       "    </tr>\n",
       "    <tr>\n",
       "      <th>368724</th>\n",
       "      <td>True</td>\n",
       "      <td>0</td>\n",
       "      <td>0</td>\n",
       "      <td>0</td>\n",
       "      <td>0</td>\n",
       "      <td>1</td>\n",
       "      <td>0</td>\n",
       "      <td>0</td>\n",
       "      <td>0.027753</td>\n",
       "      <td>0.194915</td>\n",
       "      <td>...</td>\n",
       "      <td>0</td>\n",
       "      <td>0</td>\n",
       "      <td>0</td>\n",
       "      <td>0</td>\n",
       "      <td>1</td>\n",
       "      <td>0</td>\n",
       "      <td>0</td>\n",
       "      <td>0</td>\n",
       "      <td>0</td>\n",
       "      <td>0</td>\n",
       "    </tr>\n",
       "  </tbody>\n",
       "</table>\n",
       "<p>954 rows × 64 columns</p>\n",
       "</div>"
      ],
      "text/plain": [
       "        premium_user  Gdynia  Kraków  Poznań  Radom  Szczecin  Warszawa  \\\n",
       "0               True       0       0       0      0         0         0   \n",
       "196            False       0       1       0      0         0         0   \n",
       "699            False       0       1       0      0         0         0   \n",
       "947            False       0       0       0      0         0         1   \n",
       "1737           False       0       0       0      0         0         1   \n",
       "...              ...     ...     ...     ...    ...       ...       ...   \n",
       "367214         False       0       0       0      1         0         0   \n",
       "367484         False       0       1       0      0         0         0   \n",
       "367904          True       0       0       0      0         0         0   \n",
       "368124         False       0       1       0      0         0         0   \n",
       "368724          True       0       0       0      0         1         0   \n",
       "\n",
       "        Wrocław  Ads_ratio  adds_after_fav_ratio  ...  ranchera  \\\n",
       "0             1   0.030566              0.035714  ...         0   \n",
       "196           0   0.018199              0.223684  ...         0   \n",
       "699           0   0.011745              0.080000  ...         0   \n",
       "947           0   0.024229              0.000000  ...         0   \n",
       "1737          0   0.019117              0.041096  ...         0   \n",
       "...         ...        ...                   ...  ...       ...   \n",
       "367214        0   0.031597              0.558140  ...         0   \n",
       "367484        0   0.024226              0.094118  ...         0   \n",
       "367904        1   0.033301              0.057143  ...         0   \n",
       "368124        0   0.022990              0.009804  ...         0   \n",
       "368724        0   0.027753              0.194915  ...         0   \n",
       "\n",
       "        regional mexican  rock  rock en espanol  roots rock  \\\n",
       "0                      0     0                0           0   \n",
       "196                    0     0                0           0   \n",
       "699                    0     0                0           1   \n",
       "947                    0     0                0           0   \n",
       "1737                   0     0                0           0   \n",
       "...                  ...   ...              ...         ...   \n",
       "367214                 0     0                0           0   \n",
       "367484                 0     1                0           0   \n",
       "367904                 0     0                0           0   \n",
       "368124                 0     0                0           0   \n",
       "368724                 0     0                0           1   \n",
       "\n",
       "        singer-songwriter  soft rock  soul  tropical  vocal jazz  \n",
       "0                       0          0     0         0           0  \n",
       "196                     1          0     0         0           0  \n",
       "699                     0          0     0         0           0  \n",
       "947                     0          0     0         1           1  \n",
       "1737                    0          0     0         0           0  \n",
       "...                   ...        ...   ...       ...         ...  \n",
       "367214                  0          0     0         0           0  \n",
       "367484                  0          0     0         0           0  \n",
       "367904                  1          0     0         0           0  \n",
       "368124                  0          0     0         0           0  \n",
       "368724                  0          0     0         0           0  \n",
       "\n",
       "[954 rows x 64 columns]"
      ]
     },
     "execution_count": 7,
     "metadata": {},
     "output_type": "execute_result"
    }
   ],
   "source": [
    "preprocessed_df"
   ]
  },
  {
   "cell_type": "code",
   "execution_count": 8,
   "metadata": {},
   "outputs": [
    {
     "name": "stderr",
     "output_type": "stream",
     "text": [
      "/home/julia/anaconda3/lib/python3.10/site-packages/sklearn/utils/validation.py:768: UserWarning: pandas.DataFrame with sparse columns found.It will be converted to a dense numpy array.\n",
      "  warnings.warn(\n"
     ]
    }
   ],
   "source": [
    "# split data:\n",
    "X, y = preprocessed_df.drop([\"premium_user\"], axis=1), preprocessed_df[\"premium_user\"]\n",
    "X_train, X_test, y_train, y_test = train_test_split(X, y, test_size=0.33, random_state=18)\n",
    "target_model.fit(X_train, y_train)\n",
    "\n",
    "with open('./microservice/saved_models/KNN_model.sav', 'wb') as f:\n",
    "    pickle.dump(target_model, f)"
   ]
  },
  {
   "cell_type": "code",
   "execution_count": 9,
   "metadata": {},
   "outputs": [
    {
     "data": {
      "text/plain": [
       "0.346031746031746"
      ]
     },
     "execution_count": 9,
     "metadata": {},
     "output_type": "execute_result"
    }
   ],
   "source": [
    "base_y_hat = base_model.predict(X_test)\n",
    "score = accuracy_score(y_test, base_y_hat)\n",
    "score "
   ]
  },
  {
   "cell_type": "code",
   "execution_count": 10,
   "metadata": {},
   "outputs": [
    {
     "name": "stdout",
     "output_type": "stream",
     "text": [
      "              precision    recall  f1-score   support\n",
      "\n",
      "       False       0.00      0.00      0.00       206\n",
      "        True       0.35      1.00      0.51       109\n",
      "\n",
      "    accuracy                           0.35       315\n",
      "   macro avg       0.17      0.50      0.26       315\n",
      "weighted avg       0.12      0.35      0.18       315\n",
      "\n"
     ]
    },
    {
     "name": "stderr",
     "output_type": "stream",
     "text": [
      "/home/julia/anaconda3/lib/python3.10/site-packages/sklearn/metrics/_classification.py:1344: UndefinedMetricWarning: Precision and F-score are ill-defined and being set to 0.0 in labels with no predicted samples. Use `zero_division` parameter to control this behavior.\n",
      "  _warn_prf(average, modifier, msg_start, len(result))\n",
      "/home/julia/anaconda3/lib/python3.10/site-packages/sklearn/metrics/_classification.py:1344: UndefinedMetricWarning: Precision and F-score are ill-defined and being set to 0.0 in labels with no predicted samples. Use `zero_division` parameter to control this behavior.\n",
      "  _warn_prf(average, modifier, msg_start, len(result))\n",
      "/home/julia/anaconda3/lib/python3.10/site-packages/sklearn/metrics/_classification.py:1344: UndefinedMetricWarning: Precision and F-score are ill-defined and being set to 0.0 in labels with no predicted samples. Use `zero_division` parameter to control this behavior.\n",
      "  _warn_prf(average, modifier, msg_start, len(result))\n"
     ]
    }
   ],
   "source": [
    "report = classification_report(y_test, base_y_hat)\n",
    "print(report)"
   ]
  },
  {
   "cell_type": "code",
   "execution_count": 11,
   "metadata": {},
   "outputs": [
    {
     "name": "stderr",
     "output_type": "stream",
     "text": [
      "/home/julia/anaconda3/lib/python3.10/site-packages/sklearn/utils/validation.py:768: UserWarning: pandas.DataFrame with sparse columns found.It will be converted to a dense numpy array.\n",
      "  warnings.warn(\n"
     ]
    },
    {
     "data": {
      "text/plain": [
       "0.6571428571428571"
      ]
     },
     "execution_count": 11,
     "metadata": {},
     "output_type": "execute_result"
    }
   ],
   "source": [
    "target_y_hat = target_model.predict(X_test)\n",
    "score = accuracy_score(y_test, target_y_hat)\n",
    "score "
   ]
  },
  {
   "cell_type": "code",
   "execution_count": 12,
   "metadata": {},
   "outputs": [
    {
     "name": "stdout",
     "output_type": "stream",
     "text": [
      "              precision    recall  f1-score   support\n",
      "\n",
      "       False       0.74      0.73      0.74       206\n",
      "        True       0.50      0.51      0.51       109\n",
      "\n",
      "    accuracy                           0.66       315\n",
      "   macro avg       0.62      0.62      0.62       315\n",
      "weighted avg       0.66      0.66      0.66       315\n",
      "\n"
     ]
    }
   ],
   "source": [
    "report = classification_report(y_test, target_y_hat)\n",
    "print(report)"
   ]
  },
  {
   "attachments": {},
   "cell_type": "markdown",
   "metadata": {},
   "source": [
    "### Porównanie wyników offline"
   ]
  },
  {
   "attachments": {},
   "cell_type": "markdown",
   "metadata": {},
   "source": [
    "W ocenie rezultatów wykorzystano przede wszystkim dwa wyznaczniki.\n",
    "Bazowym była skuteczność, jako prosta metryka dająca informację o ilości poprawnych predykcji wśród wszystkich. Jednocześnie jako wyznacznik kryterium sukcesu, była ona głównym celem dalszego rozwoju modelu. \n",
    "Ważny również był F1-score - łączy on w sobie recall oraz precision, które są kluczowe w naszym przypadku. Najważniejsze bowiem dla powodzenia klienta jest, aby jak najwięcej osób, którym polecone zostało premium, rzeczywiście było skłonnych kupić premium (innymi słowy, żeby jak najwięcej z naszych poleceń było do osób rzeczywiście zainteresowanych zakupem premium - precision) oraz abyśmy zaproponowali premium jak największej części osób skłonnych do jego zakupu - recall."
   ]
  },
  {
   "attachments": {},
   "cell_type": "markdown",
   "metadata": {},
   "source": [
    "- Model bazowy, zawsze zwracający prawdę ma skuteczność na poziomie ok. 35% co zgadza się z rozkładem danych. Naszemu modelowi udało osiągnąć skuteczność na poziomie 53%. Jest to poprawa na poziomie 18 punktów procentowych. \n",
    "- Precyzja modelu docelowego również jest wyższa, zarówno dla klasy \"kupi premium\" jak i \"nie kupi premium\". Oznacza to, że nasz model jest lepszy w poprawnej identyfikacji klas,\n",
    "- Model docelowy ma również lepszy wynik F1-score. Podsumowując, jest on lepszy od naiwnego we wszystkich rozpatrywanych kategoriach, poza recall, który z oczywistych względów jest 100% dla modelu naiwnego w kategorii zainteresowanych zakupem premium.\n",
    "\n",
    "Model decelowy spełnia założone kryterium sukcesu - skuteczność na poziomie wyższym niż 35%. "
   ]
  },
  {
   "attachments": {},
   "cell_type": "markdown",
   "metadata": {},
   "source": [
    "### Porównanie wyników"
   ]
  },
  {
   "attachments": {},
   "cell_type": "markdown",
   "metadata": {},
   "source": [
    "Wyniki predykcji zbierzemy za pomocą zaimplementowanego mikroserwisu (szczegóły implementacji i API niżej). \n",
    "\n",
    "(Przed uruchomieniem kodu z poniższej komórki należy uruchomić mikroserwis komendą `python3 /microservice/microservice.py`) "
   ]
  },
  {
   "cell_type": "code",
   "execution_count": 54,
   "metadata": {},
   "outputs": [],
   "source": [
    "users = pd.read_json(\"./data/users_new.json\")\n",
    "users_split = users.iloc[:200]\n",
    "base_model_users, target_model_users = randomly_split_group(users_split)"
   ]
  },
  {
   "cell_type": "code",
   "execution_count": 74,
   "metadata": {},
   "outputs": [
    {
     "name": "stderr",
     "output_type": "stream",
     "text": [
      "/home/julia/anaconda3/lib/python3.10/site-packages/sklearn/base.py:439: UserWarning: X does not have valid feature names, but KNeighborsClassifier was fitted with feature names\n",
      "  warnings.warn(\n"
     ]
    },
    {
     "data": {
      "text/plain": [
       "1"
      ]
     },
     "execution_count": 74,
     "metadata": {},
     "output_type": "execute_result"
    }
   ],
   "source": [
    "user = preprocessed_df.iloc[[0]]\n",
    "user.drop(\"premium_user\", axis=1, inplace=True)\n",
    "int(target_model.predict(user.values)[0])\n"
   ]
  },
  {
   "cell_type": "code",
   "execution_count": 83,
   "metadata": {},
   "outputs": [],
   "source": [
    "base_url = \"http://127.0.0.1:8000\"\n",
    "\n",
    "for _, user in target_model_users.iterrows():\n",
    "    payload = user.to_dict()\n",
    "    requests.post(f\"{base_url}/predict-with/KNN\", params={\"test\": \"True\"}, json=payload)\n",
    "    actual_body = {\n",
    "        \"user_id\": user[\"user_id\"],\n",
    "        \"actual\": user[\"premium_user\"]\n",
    "    }\n",
    "    requests.post(f\"{base_url}/submit-actual\", json=actual_body)\n",
    "\n",
    "for _, user in base_model_users.iterrows():\n",
    "    payload = user.to_dict()\n",
    "    requests.post(f\"{base_url}/predict-with/base\", params={\"test\": \"True\"}, json=payload)\n",
    "    actual_body = {\n",
    "        \"user_id\": user[\"user_id\"],\n",
    "        \"actual\": user[\"premium_user\"]\n",
    "    }\n",
    "    requests.post(f\"{base_url}/submit-actual\", json=actual_body)\n"
   ]
  },
  {
   "cell_type": "code",
   "execution_count": 84,
   "metadata": {},
   "outputs": [
    {
     "data": {
      "text/plain": [
       "'Fail to reject H0: No significant difference in performance between A and B'"
      ]
     },
     "execution_count": 84,
     "metadata": {},
     "output_type": "execute_result"
    }
   ],
   "source": [
    "response = requests.get(f\"{base_url}/test_ab_results\")\n",
    "response.json()[\"AB_test_verdict\"]"
   ]
  },
  {
   "attachments": {},
   "cell_type": "markdown",
   "metadata": {},
   "source": [
    "#### Funkcjonalność Dodana w ramach poprawy etapu 2"
   ]
  },
  {
   "attachments": {},
   "cell_type": "markdown",
   "metadata": {},
   "source": [
    "* LabelBinarizer'y otrzymują DataFrame, który jest następnie sortowany po wartości atrybutu, który ma być zakodowany.\n",
    "Dodatkowo dodano możliwość eksportu narzędzi użytych w preprocessingu, takich jak wspomniane Binarizer'y, do plików .sav. Dla takiego samego zbioru możliwych wartości, kodowanie będzie takie samo. \n"
   ]
  },
  {
   "cell_type": "code",
   "execution_count": null,
   "metadata": {},
   "outputs": [],
   "source": [
    "@staticmethod\n",
    "    def save_binarizers(filenames={\"mlb\":\"./microservice/saved_models/mlb.sav\", \"lb\":\"./microservice/saved_models/lb.sav\"}):\n",
    "        pickle.dump(Preprocessor.mlb, open(filenames[\"mlb\"], \"wb\"))\n",
    "        pickle.dump(Preprocessor.lb, open(filenames[\"lb\"], \"wb\"))"
   ]
  },
  {
   "attachments": {},
   "cell_type": "markdown",
   "metadata": {},
   "source": [
    "\n",
    "* Zamieszczono funkcję ustawiającą parametry dzielone między modułami, jak logowanie i ziarno generatora losowego w funkcji config() w pliku utils.configs. Jest ona wywoływana w głównym pliku aplikacji i powoduje deterministyczne zachowanie komponentów."
   ]
  },
  {
   "cell_type": "code",
   "execution_count": null,
   "metadata": {},
   "outputs": [],
   "source": [
    "def config_seed(seed:int=18):\n",
    "    np.random.seed(seed)\n",
    "    random.seed(seed)"
   ]
  },
  {
   "attachments": {},
   "cell_type": "markdown",
   "metadata": {},
   "source": [
    "* Ponowne trenowanie modelu odbywa się przy pomocy ModelManagera - klasy, która agreguje model i jego metody znane z api sklearn - i.e. fit i predict. Dodatkowo posiada prepare_data, do którego można podać ścieżki do plików z danymi, podobnie do domyślnej wartości atrybutu.\n",
    "* W celu korzystania w taki sposób z dostarczonych funkcjonalności, można skorzystać z kodu analogicznego do `test_model_manual.py`: "
   ]
  },
  {
   "cell_type": "code",
   "execution_count": null,
   "metadata": {},
   "outputs": [],
   "source": [
    "model_manager = ModelManager(KNeighborsClassifier)\n",
    "# ModelManager jako domyślny model przyjmuje KNeighborsClassifier, więc nie było konieczne go podawać\n",
    "model_manager.prepare_data(since=np.datetime64('2021-08', 'D')).fit_data().predict()\n",
    "# Rezultaty operacji zapisywane są w obiekcie, z którego dostępne są na zewnątrz\n",
    "print(model_manager.classification_report())"
   ]
  },
  {
   "attachments": {},
   "cell_type": "markdown",
   "metadata": {},
   "source": [
    "* Plik requiremets został dodany do katalogu microservice\n",
    "* Do pierwotnej analizy dodano pozostałe uwagi, jak na przykład odniesienie się do kryterium sukcesu, które model decelowy spełnia - skuteczność na poziomie wyższym niż 35%. \n",
    "* Dodano strojenie hiperparametrów w pliku `tuning.py`"
   ]
  }
 ],
 "metadata": {
  "kernelspec": {
   "display_name": "base",
   "language": "python",
   "name": "python3"
  },
  "language_info": {
   "codemirror_mode": {
    "name": "ipython",
    "version": 3
   },
   "file_extension": ".py",
   "mimetype": "text/x-python",
   "name": "python",
   "nbconvert_exporter": "python",
   "pygments_lexer": "ipython3",
   "version": "3.10.9"
  },
  "orig_nbformat": 4
 },
 "nbformat": 4,
 "nbformat_minor": 2
}
