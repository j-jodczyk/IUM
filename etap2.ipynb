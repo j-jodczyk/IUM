{
 "cells": [
  {
   "attachments": {},
   "cell_type": "markdown",
   "metadata": {},
   "source": [
    "# Drugi etap projektu\n",
    "Julia Jodczyk\n",
    "\n",
    "Filip Pawłowski \n",
    "### Polecenie:\n",
    "“Jakiś czas temu wprowadziliśmy konta premium, które uwalniają użytkowników od słuchania reklam. Nie są one jednak jeszcze zbyt popularne – czy możemy się dowiedzieć, które osoby są bardziej skłonne do zakupu takiego konta?”"
   ]
  },
  {
   "cell_type": "code",
   "execution_count": null,
   "metadata": {},
   "outputs": [],
   "source": [
    "import pickle\n",
    "import requests\n",
    "import json\n",
    "from sklearn.neighbors import KNeighborsClassifier\n",
    "from sklearn.model_selection import train_test_split\n",
    "from sklearn.metrics import accuracy_score\n",
    "\n",
    "from microservice.load_data import Preprocessor \n",
    "from microservice.files_utils import randomly_split_group"
   ]
  },
  {
   "attachments": {},
   "cell_type": "markdown",
   "metadata": {},
   "source": [
    "## Modele"
   ]
  },
  {
   "attachments": {},
   "cell_type": "markdown",
   "metadata": {},
   "source": [
    "Stworzyliśmy modele klasyfikacji binarnej, które dzielą użytkowników na grupy: `kupi premium` i `nie kupi premium`. "
   ]
  },
  {
   "attachments": {},
   "cell_type": "markdown",
   "metadata": {},
   "source": [
    "### Model Bazowy"
   ]
  },
  {
   "attachments": {},
   "cell_type": "markdown",
   "metadata": {},
   "source": [
    "Jako model bazowy, najprostszy z możliwych dla danego zadania uznajemy model naiwny, który zawsze klasyfikuje użytkowników do grupy `kupi premium`: "
   ]
  },
  {
   "cell_type": "code",
   "execution_count": null,
   "metadata": {},
   "outputs": [],
   "source": [
    "class NaiveModel:\n",
    "    def predict(self, input_data):\n",
    "        return [1]\n",
    "    \n",
    "base_model = NaiveModel()\n",
    "\n",
    "with open('./microservice/saved_models/base_model.sav', 'wb') as f:\n",
    "    pickle.dump(base_model, f)"
   ]
  },
  {
   "attachments": {},
   "cell_type": "markdown",
   "metadata": {},
   "source": [
    "### Model docelowy"
   ]
  },
  {
   "attachments": {},
   "cell_type": "markdown",
   "metadata": {},
   "source": [
    "Jako model docelowy, po analizie z pierwszego etapu, wybraliśmy model KNN z następującymi cechami (per użytkownik):\n",
    "- miasto \n",
    "- stosunek czasu reklam do całego czasu, jaki użytkownik spędził korzystając z serwisu\n",
    "- stosunkowy udział każdego typu zdarzenia (event_type) we wszystkich zdarzeniach sesji\n",
    "- stosunek ilości reklam po utworach ulubionego gatunku\n",
    "- ulubione gatunki użytkownika\n",
    "\n",
    "Implementacja ekstrakcji powyższych cech została umieszczona w pliku `load_data.py`. Cechy nieliczbowe - miasto oraz ulubione gatunki zostały zakodowane sposobem one hot encoding."
   ]
  },
  {
   "cell_type": "code",
   "execution_count": null,
   "metadata": {},
   "outputs": [],
   "source": [
    "with open(\"./microservice/data/users.json\", \"r\") as f:\n",
    "        group = json.load(f)\n",
    "train_users, test_users = randomly_split_group(group)\n",
    "with open(\"./microservice/data/train_users.json\", \"w\") as f:\n",
    "    json.dump(train_users, f)"
   ]
  },
  {
   "cell_type": "code",
   "execution_count": null,
   "metadata": {},
   "outputs": [],
   "source": [
    "target_model = KNeighborsClassifier()\n",
    "# load data:\n",
    "# use file train_users instead of users\n",
    "X_train, y_train = Preprocessor.run()\n",
    "# split data:\n",
    "target_model.fit(X_train, y_train)\n",
    "\n",
    "with open('./microservice/saved_models/KNN_model.sav', 'wb') as f:\n",
    "    pickle.dump(target_model, f)"
   ]
  },
  {
   "attachments": {},
   "cell_type": "markdown",
   "metadata": {},
   "source": [
    "### Porównanie wyników"
   ]
  },
  {
   "attachments": {},
   "cell_type": "markdown",
   "metadata": {},
   "source": [
    "Wyniki predykcji zbierzemy za pomocą zaimplementowanego mikroserwisu (szczegóły implementacji i API niżej). \n",
    "\n",
    "(Przed uruchomieniem kodu z poniższej komórki należy uruchomić mikroserwis komendą `python3 /microservice/microservice.py`) "
   ]
  },
  {
   "cell_type": "code",
   "execution_count": null,
   "metadata": {},
   "outputs": [],
   "source": [
    "base_url = \"http://127.0.0.1:8000\"\n",
    "\n",
    "base_model_test, target_model_test = randomly_split_group(test_users)\n",
    "for user in target_model_test:\n",
    "    requests.post(f\"{base_url}/predict-with/KNN\", params={\"test\": \"True\"}, json=user)\n",
    "    actual_body = {\n",
    "        \"user_id\": user[\"user_id\"],\n",
    "        \"actual\": user[\"premium_user\"]\n",
    "    }\n",
    "    requests.post(f\"{base_url}/submit-actual\", json=actual_body)\n",
    "for user in base_model_test:\n",
    "    requests.post(f\"{base_url}/predict-with/base\", params={\"test\": \"True\"}, json=user)\n",
    "    actual_body = {\n",
    "        \"user_id\": user[\"user_id\"],\n",
    "        \"actual\": user[\"premium_user\"]\n",
    "    }\n",
    "    requests.post(f\"{base_url}/submit-actual\", json=actual_body)\n"
   ]
  },
  {
   "cell_type": "code",
   "execution_count": null,
   "metadata": {},
   "outputs": [],
   "source": [
    "response = requests.get(f\"{base_url}/test_ab_results\")\n"
   ]
  }
 ],
 "metadata": {
  "kernelspec": {
   "display_name": "base",
   "language": "python",
   "name": "python3"
  },
  "language_info": {
   "codemirror_mode": {
    "name": "ipython",
    "version": 3
   },
   "file_extension": ".py",
   "mimetype": "text/x-python",
   "name": "python",
   "nbconvert_exporter": "python",
   "pygments_lexer": "ipython3",
   "version": "3.10.9"
  },
  "orig_nbformat": 4
 },
 "nbformat": 4,
 "nbformat_minor": 2
}
